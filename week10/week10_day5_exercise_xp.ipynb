{
  "nbformat": 4,
  "nbformat_minor": 0,
  "metadata": {
    "colab": {
      "provenance": []
    },
    "kernelspec": {
      "name": "python3",
      "display_name": "Python 3"
    },
    "language_info": {
      "name": "python"
    }
  },
  "cells": [
    {
      "cell_type": "code",
      "execution_count": 7,
      "metadata": {
        "colab": {
          "base_uri": "https://localhost:8080/"
        },
        "id": "zz2LGOvDURQH",
        "outputId": "bb66959d-cd6a-4297-e668-74d82ff73eeb"
      },
      "outputs": [
        {
          "output_type": "stream",
          "name": "stdout",
          "text": [
            "[1 2 3 4 5 6 7 8 9]\n"
          ]
        }
      ],
      "source": [
        "#Exercise 1\n",
        "import numpy as np\n",
        "\n",
        "array_a = np.arange(1,10)\n",
        "print(array_a)"
      ]
    },
    {
      "cell_type": "code",
      "source": [
        "#Exercise 2\n",
        "import numpy as np\n",
        "\n",
        "unstructured_list = [3.14, 2.17, 0, 1, 2]\n",
        "array_int = np.array(unstructured_list, dtype=int)\n",
        "print(array_int)"
      ],
      "metadata": {
        "colab": {
          "base_uri": "https://localhost:8080/"
        },
        "id": "KTdY8aSPUfoC",
        "outputId": "3d9073ca-e6dc-4bc1-d152-fc0493673442"
      },
      "execution_count": 8,
      "outputs": [
        {
          "output_type": "stream",
          "name": "stdout",
          "text": [
            "[3 2 0 1 2]\n"
          ]
        }
      ]
    },
    {
      "cell_type": "code",
      "source": [
        "#Exercise 3\n",
        "import numpy as np\n",
        "\n",
        "array_3x3 = np.arange(1,10).reshape(3,3)\n",
        "print(array_3x3)"
      ],
      "metadata": {
        "colab": {
          "base_uri": "https://localhost:8080/"
        },
        "id": "-UZqdpb3VhZw",
        "outputId": "77750f88-31db-4e6f-e934-8624fbe9160d"
      },
      "execution_count": 9,
      "outputs": [
        {
          "output_type": "stream",
          "name": "stdout",
          "text": [
            "[[1 2 3]\n",
            " [4 5 6]\n",
            " [7 8 9]]\n"
          ]
        }
      ]
    },
    {
      "cell_type": "code",
      "source": [
        "#Exercise 4\n",
        "import numpy as np\n",
        "\n",
        "array_2d = np.random.rand(4,5)\n",
        "print(array_2d)"
      ],
      "metadata": {
        "colab": {
          "base_uri": "https://localhost:8080/"
        },
        "id": "F1IQUnMYVvjM",
        "outputId": "7439d4e1-ab38-422e-a3ac-5e4541eb11f2"
      },
      "execution_count": 11,
      "outputs": [
        {
          "output_type": "stream",
          "name": "stdout",
          "text": [
            "[[0.75202426 0.69896068 0.63319108 0.01483724 0.33217097]\n",
            " [0.0543165  0.2058093  0.38309829 0.96687734 0.2870298 ]\n",
            " [0.75438749 0.51774646 0.40531243 0.57943246 0.18068317]\n",
            " [0.55285994 0.47956593 0.27536256 0.59676482 0.8183856 ]]\n"
          ]
        }
      ]
    },
    {
      "cell_type": "code",
      "source": [
        "#Exercise 5\n",
        "import numpy as np\n",
        "\n",
        "print(array_2d[2,:])"
      ],
      "metadata": {
        "colab": {
          "base_uri": "https://localhost:8080/"
        },
        "id": "Y-FdkiCFV7Q1",
        "outputId": "5f8fc686-cadc-4d74-c62c-6437df58894a"
      },
      "execution_count": 14,
      "outputs": [
        {
          "output_type": "stream",
          "name": "stdout",
          "text": [
            "[0.75438749 0.51774646 0.40531243 0.57943246 0.18068317]\n"
          ]
        }
      ]
    },
    {
      "cell_type": "code",
      "source": [
        "#Exercise 6\n",
        "\n",
        "import numpy as np\n",
        "\n",
        "arr = np.array([1, 2, 3, 4, 5])\n",
        "reversed_arr = arr[::-1]\n",
        "\n",
        "print(reversed_arr)"
      ],
      "metadata": {
        "colab": {
          "base_uri": "https://localhost:8080/"
        },
        "id": "7bXBbBDlWM4Y",
        "outputId": "b15416fc-37a6-4007-afe0-d28c30b8979e"
      },
      "execution_count": 15,
      "outputs": [
        {
          "output_type": "stream",
          "name": "stdout",
          "text": [
            "[5 4 3 2 1]\n"
          ]
        }
      ]
    },
    {
      "cell_type": "code",
      "source": [
        "#Exercise 7\n",
        "\n",
        "import numpy as np\n",
        "\n",
        "matrix = np.arange(1,17)\n",
        "\n",
        "reshaped_arr = matrix.reshape(4,4)\n",
        "\n",
        "print(reshaped_arr)\n"
      ],
      "metadata": {
        "colab": {
          "base_uri": "https://localhost:8080/"
        },
        "id": "BU0YcujUXe7i",
        "outputId": "3e51b16d-bc1a-43be-a499-81d7cb5581cc"
      },
      "execution_count": 16,
      "outputs": [
        {
          "output_type": "stream",
          "name": "stdout",
          "text": [
            "[[ 1  2  3  4]\n",
            " [ 5  6  7  8]\n",
            " [ 9 10 11 12]\n",
            " [13 14 15 16]]\n"
          ]
        }
      ]
    },
    {
      "cell_type": "code",
      "source": [
        "#Exercise 8\n",
        "\n",
        "import numpy as np\n",
        "\n",
        "sum_matrix = np.sum(matrix)\n",
        "avg_matrix = np.mean(matrix)\n",
        "\n",
        "print('Sum:', sum_matrix, 'Average:', avg_matrix)"
      ],
      "metadata": {
        "colab": {
          "base_uri": "https://localhost:8080/"
        },
        "id": "9mFwdgIZX6B8",
        "outputId": "4e270b1d-41d7-4110-e208-6b8bbf8e60a2"
      },
      "execution_count": 19,
      "outputs": [
        {
          "output_type": "stream",
          "name": "stdout",
          "text": [
            "Sum: 136 Average: 8.5\n"
          ]
        }
      ]
    },
    {
      "cell_type": "code",
      "source": [
        "#Exercise 9\n",
        "\n",
        "import numpy as np\n",
        "\n",
        "arr_20 = np.arange(1,21)\n",
        "reshape_arr_20 = np.reshape(arr_20, (4,5))\n",
        "\n",
        "print(reshape_arr_20)"
      ],
      "metadata": {
        "colab": {
          "base_uri": "https://localhost:8080/"
        },
        "id": "abyge8DcYP1l",
        "outputId": "90b7e0a4-597b-4414-bea4-96ef297e9eb1"
      },
      "execution_count": 20,
      "outputs": [
        {
          "output_type": "stream",
          "name": "stdout",
          "text": [
            "[[ 1  2  3  4  5]\n",
            " [ 6  7  8  9 10]\n",
            " [11 12 13 14 15]\n",
            " [16 17 18 19 20]]\n"
          ]
        }
      ]
    },
    {
      "cell_type": "code",
      "source": [
        "#Exercise 10\n",
        "\n",
        "import numpy as np\n",
        "\n",
        "arr = np.arange(1, 10)\n",
        "odd_numbers = arr[arr % 2 == 1]\n",
        "\n",
        "print(odd_numbers)"
      ],
      "metadata": {
        "colab": {
          "base_uri": "https://localhost:8080/"
        },
        "id": "L-VCeEQeYyT6",
        "outputId": "a9d9af11-4d82-4431-b892-5c100a298979"
      },
      "execution_count": 22,
      "outputs": [
        {
          "output_type": "stream",
          "name": "stdout",
          "text": [
            "[1 3 5 7 9]\n"
          ]
        }
      ]
    },
    {
      "cell_type": "code",
      "source": [],
      "metadata": {
        "id": "owzcWfYMZFtY"
      },
      "execution_count": null,
      "outputs": []
    }
  ]
}